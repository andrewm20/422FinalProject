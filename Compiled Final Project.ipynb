{
 "cells": [
  {
   "attachments": {},
   "cell_type": "markdown",
   "id": "d5e8e31c",
   "metadata": {},
   "source": [
    "# CMSC422 Final Project\n",
    "\n",
    "By: Jonathan Gong, Andrew McNamara, John McAdoo\n",
    "\n",
    "Github Repo: https://github.com/andrewm20/422FinalProject"
   ]
  },
  {
   "attachments": {},
   "cell_type": "markdown",
   "id": "8bfd81c8",
   "metadata": {},
   "source": [
    "## Introduction\n",
    "\n",
    "For our project, we will be evaluating the performance of different machine learning techniques on the process of predicting whether an email is spam or not. We will be using the dataset found [here](https://www.kaggle.com/datasets/somesh24/spambase) as the source of our information for training and testing. \n",
    "\n",
    "The techniques and models we included to inform our understanding of this task are as follows: Perceptron, Principal Component Analysis, Neural Networks, K-Nearest Neighbors, Decision Trees, Random Forest, Naive Bayes, and Logistic Regression. Not all of these techniques were used to obtain a realistic predictive model (i.e. Percpetron, and Principal Component Analysis in particular), as some were merely included to (a) demonstrate their relatively poor performance when compared to other algorithms more suited to the task and (b) inform our understanding of the dataset, such as whether or not the positive and negative labeled datapoints were linearly separable. \n",
    "\n",
    "\n",
    "## Motivation\n",
    "\n",
    "Spam emails are a problem that affect nearly everyone. In fact, according to [DataProt.net](https://dataprot.net/), nearly 85% of all emails are spams. Knowing this, our initial interest in this topic was simply to better understand the nature of (and potentially identify the optimal solutions for) a very widespread problem. We were also interested in this topic due to its practical appeal as a binary-classification problem, in which each each example in the dataset can clearly be labeled as either one of two options: spam or non-spam. This characteristic of our dataset made it easier to apply a variety of different algorithms while also maintaining a relatively high degree of complexity / relevance to our coursework this past semester. \n",
    "\n",
    "Lastly, although our primary motivation for this project was to determine which different machine-learning algorithms would perform the best in predicting whether an email was spam, we were also interested in the following questions:\n",
    "\n",
    "<br>\n",
    "\n",
    "1. What machine-learning algorithms would have the greatest precision? After all, accurately predicting an email as spam is not the only relevant consideration for solving this problem; it is also important that the model not create false positives, as labeling a non-spam email as spam (and therefore potentially removing it from someone's inbox) is a significant issue no one would likes to endure. \n",
    "\n",
    "2. What features of the dataset are the most relevant in indicating that an email is spam? For instance, are there are any particular words, characters, or sequences of letters/phrases that are highly prevalent across a variety of spam emails? \n",
    "\n",
    "\n",
    "\n",
    "## About the Dataset\n",
    "\n",
    "This dataset collects emails from a variety of different sources of spam, including \"advertisements for products/websites, make money fast schemes, chain letters, pornography, and more.\" The collection of emails labeled as non-spam come from \"filed work and personal e-mails.\" The dimensions of the dataset are 4601 X 57, meaning that there are 4601 emails total described by 57 different attributes characterizing each email. \n",
    "\n",
    "The features included in the data largely contains information regarding how frequently a word or character occured in the email. The data can generally be understood through the following descriptions (quoted directly from the data description on Kaggle):\n",
    "\n",
    "1. Any column name matching the format \"word_freq_WORD\" is intended to mean: \"the percentage of words in the e-mail that match WORD, i.e. 100 * (number of times the WORD appears in the e-mail) / total number of words in e-mail. A 'word' in this case is any string of alphanumeric characters bounded by non-alphanumeric characters or end-of-string.\" There are about 48 of theses types of variables with a domain of [0, 100] -- it is highly likely that there were more than 48 total unique words in the corpus of emails included in the data, but we believe the authors of the dataset only included words that were non-trivial (either by virtue of their actual prevalance or by the abstract meaning of the word itself, such as the word \"the\"). The details surrounding this process are not clear to us.\n",
    "\n",
    "2. Similarly, column names under the format \"char_freq_CHAR\" means \" the percentage of characters in the email that match CHAR, i.e. 100 * (number of CHAR occurences) / total characters in email.\" This column also has a domain of [0, 100].\n",
    "\n",
    "The rest of the columns (except #6) have a continuous domain of [1, infinity) \n",
    "\n",
    "3. A column indicating \"the average length of uninterrupted sequences of capital letters.\" \n",
    "\n",
    "4. A coluumn indicating \"the length of the longest uninterrupted sequence of capital letters.\" \n",
    "\n",
    "5. A column indicating \"the total number of capital letters in the email.\"\n",
    "\n",
    "6. The class label, with (1) indicating that the email is spam and (0) for non-spam."
   ]
  },
  {
   "cell_type": "code",
   "execution_count": 26,
   "id": "e901972b",
   "metadata": {},
   "outputs": [],
   "source": [
    "import pandas as pd\n",
    "from sklearn.neighbors import KNeighborsClassifier\n",
    "from sklearn.model_selection import train_test_split\n",
    "from sklearn.model_selection import cross_val_score\n",
    "from sklearn.preprocessing import StandardScaler\n",
    "from sklearn.metrics import accuracy_score, precision_score, recall_score\n",
    "import matplotlib.pyplot as plt\n",
    "import numpy as np"
   ]
  },
  {
   "attachments": {},
   "cell_type": "markdown",
   "id": "26bddd38",
   "metadata": {},
   "source": [
    "## Data Exploration"
   ]
  },
  {
   "cell_type": "code",
   "execution_count": 27,
   "id": "e32357a8",
   "metadata": {},
   "outputs": [],
   "source": [
    "# Reading in the dataset\n",
    "df = pd.read_csv('spambase_csv.csv')"
   ]
  },
  {
   "cell_type": "code",
   "execution_count": 28,
   "id": "919bfdf0",
   "metadata": {},
   "outputs": [
    {
     "data": {
      "text/html": [
       "<div>\n",
       "<style scoped>\n",
       "    .dataframe tbody tr th:only-of-type {\n",
       "        vertical-align: middle;\n",
       "    }\n",
       "\n",
       "    .dataframe tbody tr th {\n",
       "        vertical-align: top;\n",
       "    }\n",
       "\n",
       "    .dataframe thead th {\n",
       "        text-align: right;\n",
       "    }\n",
       "</style>\n",
       "<table border=\"1\" class=\"dataframe\">\n",
       "  <thead>\n",
       "    <tr style=\"text-align: right;\">\n",
       "      <th></th>\n",
       "      <th>word_freq_make</th>\n",
       "      <th>word_freq_address</th>\n",
       "      <th>word_freq_all</th>\n",
       "      <th>word_freq_3d</th>\n",
       "      <th>word_freq_our</th>\n",
       "      <th>word_freq_over</th>\n",
       "      <th>word_freq_remove</th>\n",
       "      <th>word_freq_internet</th>\n",
       "      <th>word_freq_order</th>\n",
       "      <th>word_freq_mail</th>\n",
       "      <th>...</th>\n",
       "      <th>char_freq_%3B</th>\n",
       "      <th>char_freq_%28</th>\n",
       "      <th>char_freq_%5B</th>\n",
       "      <th>char_freq_%21</th>\n",
       "      <th>char_freq_%24</th>\n",
       "      <th>char_freq_%23</th>\n",
       "      <th>capital_run_length_average</th>\n",
       "      <th>capital_run_length_longest</th>\n",
       "      <th>capital_run_length_total</th>\n",
       "      <th>class</th>\n",
       "    </tr>\n",
       "  </thead>\n",
       "  <tbody>\n",
       "    <tr>\n",
       "      <th>0</th>\n",
       "      <td>0.00</td>\n",
       "      <td>0.64</td>\n",
       "      <td>0.64</td>\n",
       "      <td>0.0</td>\n",
       "      <td>0.32</td>\n",
       "      <td>0.00</td>\n",
       "      <td>0.00</td>\n",
       "      <td>0.00</td>\n",
       "      <td>0.00</td>\n",
       "      <td>0.00</td>\n",
       "      <td>...</td>\n",
       "      <td>0.00</td>\n",
       "      <td>0.000</td>\n",
       "      <td>0.0</td>\n",
       "      <td>0.778</td>\n",
       "      <td>0.000</td>\n",
       "      <td>0.000</td>\n",
       "      <td>3.756</td>\n",
       "      <td>61</td>\n",
       "      <td>278</td>\n",
       "      <td>1</td>\n",
       "    </tr>\n",
       "    <tr>\n",
       "      <th>1</th>\n",
       "      <td>0.21</td>\n",
       "      <td>0.28</td>\n",
       "      <td>0.50</td>\n",
       "      <td>0.0</td>\n",
       "      <td>0.14</td>\n",
       "      <td>0.28</td>\n",
       "      <td>0.21</td>\n",
       "      <td>0.07</td>\n",
       "      <td>0.00</td>\n",
       "      <td>0.94</td>\n",
       "      <td>...</td>\n",
       "      <td>0.00</td>\n",
       "      <td>0.132</td>\n",
       "      <td>0.0</td>\n",
       "      <td>0.372</td>\n",
       "      <td>0.180</td>\n",
       "      <td>0.048</td>\n",
       "      <td>5.114</td>\n",
       "      <td>101</td>\n",
       "      <td>1028</td>\n",
       "      <td>1</td>\n",
       "    </tr>\n",
       "    <tr>\n",
       "      <th>2</th>\n",
       "      <td>0.06</td>\n",
       "      <td>0.00</td>\n",
       "      <td>0.71</td>\n",
       "      <td>0.0</td>\n",
       "      <td>1.23</td>\n",
       "      <td>0.19</td>\n",
       "      <td>0.19</td>\n",
       "      <td>0.12</td>\n",
       "      <td>0.64</td>\n",
       "      <td>0.25</td>\n",
       "      <td>...</td>\n",
       "      <td>0.01</td>\n",
       "      <td>0.143</td>\n",
       "      <td>0.0</td>\n",
       "      <td>0.276</td>\n",
       "      <td>0.184</td>\n",
       "      <td>0.010</td>\n",
       "      <td>9.821</td>\n",
       "      <td>485</td>\n",
       "      <td>2259</td>\n",
       "      <td>1</td>\n",
       "    </tr>\n",
       "    <tr>\n",
       "      <th>3</th>\n",
       "      <td>0.00</td>\n",
       "      <td>0.00</td>\n",
       "      <td>0.00</td>\n",
       "      <td>0.0</td>\n",
       "      <td>0.63</td>\n",
       "      <td>0.00</td>\n",
       "      <td>0.31</td>\n",
       "      <td>0.63</td>\n",
       "      <td>0.31</td>\n",
       "      <td>0.63</td>\n",
       "      <td>...</td>\n",
       "      <td>0.00</td>\n",
       "      <td>0.137</td>\n",
       "      <td>0.0</td>\n",
       "      <td>0.137</td>\n",
       "      <td>0.000</td>\n",
       "      <td>0.000</td>\n",
       "      <td>3.537</td>\n",
       "      <td>40</td>\n",
       "      <td>191</td>\n",
       "      <td>1</td>\n",
       "    </tr>\n",
       "    <tr>\n",
       "      <th>4</th>\n",
       "      <td>0.00</td>\n",
       "      <td>0.00</td>\n",
       "      <td>0.00</td>\n",
       "      <td>0.0</td>\n",
       "      <td>0.63</td>\n",
       "      <td>0.00</td>\n",
       "      <td>0.31</td>\n",
       "      <td>0.63</td>\n",
       "      <td>0.31</td>\n",
       "      <td>0.63</td>\n",
       "      <td>...</td>\n",
       "      <td>0.00</td>\n",
       "      <td>0.135</td>\n",
       "      <td>0.0</td>\n",
       "      <td>0.135</td>\n",
       "      <td>0.000</td>\n",
       "      <td>0.000</td>\n",
       "      <td>3.537</td>\n",
       "      <td>40</td>\n",
       "      <td>191</td>\n",
       "      <td>1</td>\n",
       "    </tr>\n",
       "  </tbody>\n",
       "</table>\n",
       "<p>5 rows × 58 columns</p>\n",
       "</div>"
      ],
      "text/plain": [
       "   word_freq_make  word_freq_address  word_freq_all  word_freq_3d  \\\n",
       "0            0.00               0.64           0.64           0.0   \n",
       "1            0.21               0.28           0.50           0.0   \n",
       "2            0.06               0.00           0.71           0.0   \n",
       "3            0.00               0.00           0.00           0.0   \n",
       "4            0.00               0.00           0.00           0.0   \n",
       "\n",
       "   word_freq_our  word_freq_over  word_freq_remove  word_freq_internet  \\\n",
       "0           0.32            0.00              0.00                0.00   \n",
       "1           0.14            0.28              0.21                0.07   \n",
       "2           1.23            0.19              0.19                0.12   \n",
       "3           0.63            0.00              0.31                0.63   \n",
       "4           0.63            0.00              0.31                0.63   \n",
       "\n",
       "   word_freq_order  word_freq_mail  ...  char_freq_%3B  char_freq_%28  \\\n",
       "0             0.00            0.00  ...           0.00          0.000   \n",
       "1             0.00            0.94  ...           0.00          0.132   \n",
       "2             0.64            0.25  ...           0.01          0.143   \n",
       "3             0.31            0.63  ...           0.00          0.137   \n",
       "4             0.31            0.63  ...           0.00          0.135   \n",
       "\n",
       "   char_freq_%5B  char_freq_%21  char_freq_%24  char_freq_%23  \\\n",
       "0            0.0          0.778          0.000          0.000   \n",
       "1            0.0          0.372          0.180          0.048   \n",
       "2            0.0          0.276          0.184          0.010   \n",
       "3            0.0          0.137          0.000          0.000   \n",
       "4            0.0          0.135          0.000          0.000   \n",
       "\n",
       "   capital_run_length_average  capital_run_length_longest  \\\n",
       "0                       3.756                          61   \n",
       "1                       5.114                         101   \n",
       "2                       9.821                         485   \n",
       "3                       3.537                          40   \n",
       "4                       3.537                          40   \n",
       "\n",
       "   capital_run_length_total  class  \n",
       "0                       278      1  \n",
       "1                      1028      1  \n",
       "2                      2259      1  \n",
       "3                       191      1  \n",
       "4                       191      1  \n",
       "\n",
       "[5 rows x 58 columns]"
      ]
     },
     "execution_count": 28,
     "metadata": {},
     "output_type": "execute_result"
    }
   ],
   "source": [
    "df.head()"
   ]
  },
  {
   "attachments": {},
   "cell_type": "markdown",
   "id": "73cc5c27",
   "metadata": {},
   "source": [
    "### 1a. Displaying the column names and their datatype"
   ]
  },
  {
   "cell_type": "code",
   "execution_count": 29,
   "id": "fb63d63b",
   "metadata": {
    "collapsed": true
   },
   "outputs": [
    {
     "name": "stdout",
     "output_type": "stream",
     "text": [
      "<class 'pandas.core.frame.DataFrame'>\n",
      "RangeIndex: 4601 entries, 0 to 4600\n",
      "Data columns (total 58 columns):\n",
      " #   Column                      Non-Null Count  Dtype  \n",
      "---  ------                      --------------  -----  \n",
      " 0   word_freq_make              4601 non-null   float64\n",
      " 1   word_freq_address           4601 non-null   float64\n",
      " 2   word_freq_all               4601 non-null   float64\n",
      " 3   word_freq_3d                4601 non-null   float64\n",
      " 4   word_freq_our               4601 non-null   float64\n",
      " 5   word_freq_over              4601 non-null   float64\n",
      " 6   word_freq_remove            4601 non-null   float64\n",
      " 7   word_freq_internet          4601 non-null   float64\n",
      " 8   word_freq_order             4601 non-null   float64\n",
      " 9   word_freq_mail              4601 non-null   float64\n",
      " 10  word_freq_receive           4601 non-null   float64\n",
      " 11  word_freq_will              4601 non-null   float64\n",
      " 12  word_freq_people            4601 non-null   float64\n",
      " 13  word_freq_report            4601 non-null   float64\n",
      " 14  word_freq_addresses         4601 non-null   float64\n",
      " 15  word_freq_free              4601 non-null   float64\n",
      " 16  word_freq_business          4601 non-null   float64\n",
      " 17  word_freq_email             4601 non-null   float64\n",
      " 18  word_freq_you               4601 non-null   float64\n",
      " 19  word_freq_credit            4601 non-null   float64\n",
      " 20  word_freq_your              4601 non-null   float64\n",
      " 21  word_freq_font              4601 non-null   float64\n",
      " 22  word_freq_000               4601 non-null   float64\n",
      " 23  word_freq_money             4601 non-null   float64\n",
      " 24  word_freq_hp                4601 non-null   float64\n",
      " 25  word_freq_hpl               4601 non-null   float64\n",
      " 26  word_freq_george            4601 non-null   float64\n",
      " 27  word_freq_650               4601 non-null   float64\n",
      " 28  word_freq_lab               4601 non-null   float64\n",
      " 29  word_freq_labs              4601 non-null   float64\n",
      " 30  word_freq_telnet            4601 non-null   float64\n",
      " 31  word_freq_857               4601 non-null   float64\n",
      " 32  word_freq_data              4601 non-null   float64\n",
      " 33  word_freq_415               4601 non-null   float64\n",
      " 34  word_freq_85                4601 non-null   float64\n",
      " 35  word_freq_technology        4601 non-null   float64\n",
      " 36  word_freq_1999              4601 non-null   float64\n",
      " 37  word_freq_parts             4601 non-null   float64\n",
      " 38  word_freq_pm                4601 non-null   float64\n",
      " 39  word_freq_direct            4601 non-null   float64\n",
      " 40  word_freq_cs                4601 non-null   float64\n",
      " 41  word_freq_meeting           4601 non-null   float64\n",
      " 42  word_freq_original          4601 non-null   float64\n",
      " 43  word_freq_project           4601 non-null   float64\n",
      " 44  word_freq_re                4601 non-null   float64\n",
      " 45  word_freq_edu               4601 non-null   float64\n",
      " 46  word_freq_table             4601 non-null   float64\n",
      " 47  word_freq_conference        4601 non-null   float64\n",
      " 48  char_freq_%3B               4601 non-null   float64\n",
      " 49  char_freq_%28               4601 non-null   float64\n",
      " 50  char_freq_%5B               4601 non-null   float64\n",
      " 51  char_freq_%21               4601 non-null   float64\n",
      " 52  char_freq_%24               4601 non-null   float64\n",
      " 53  char_freq_%23               4601 non-null   float64\n",
      " 54  capital_run_length_average  4601 non-null   float64\n",
      " 55  capital_run_length_longest  4601 non-null   int64  \n",
      " 56  capital_run_length_total    4601 non-null   int64  \n",
      " 57  class                       4601 non-null   int64  \n",
      "dtypes: float64(55), int64(3)\n",
      "memory usage: 2.0 MB\n"
     ]
    }
   ],
   "source": [
    "df.info()"
   ]
  },
  {
   "attachments": {},
   "cell_type": "markdown",
   "id": "d43f7cc4",
   "metadata": {},
   "source": [
    "### 1b. Summary Statistics"
   ]
  },
  {
   "cell_type": "code",
   "execution_count": 30,
   "id": "e135f163",
   "metadata": {
    "collapsed": true
   },
   "outputs": [
    {
     "data": {
      "text/html": [
       "<div>\n",
       "<style scoped>\n",
       "    .dataframe tbody tr th:only-of-type {\n",
       "        vertical-align: middle;\n",
       "    }\n",
       "\n",
       "    .dataframe tbody tr th {\n",
       "        vertical-align: top;\n",
       "    }\n",
       "\n",
       "    .dataframe thead th {\n",
       "        text-align: right;\n",
       "    }\n",
       "</style>\n",
       "<table border=\"1\" class=\"dataframe\">\n",
       "  <thead>\n",
       "    <tr style=\"text-align: right;\">\n",
       "      <th></th>\n",
       "      <th>word_freq_make</th>\n",
       "      <th>word_freq_address</th>\n",
       "      <th>word_freq_all</th>\n",
       "      <th>word_freq_3d</th>\n",
       "      <th>word_freq_our</th>\n",
       "      <th>word_freq_over</th>\n",
       "      <th>word_freq_remove</th>\n",
       "      <th>word_freq_internet</th>\n",
       "      <th>word_freq_order</th>\n",
       "      <th>word_freq_mail</th>\n",
       "      <th>...</th>\n",
       "      <th>char_freq_%3B</th>\n",
       "      <th>char_freq_%28</th>\n",
       "      <th>char_freq_%5B</th>\n",
       "      <th>char_freq_%21</th>\n",
       "      <th>char_freq_%24</th>\n",
       "      <th>char_freq_%23</th>\n",
       "      <th>capital_run_length_average</th>\n",
       "      <th>capital_run_length_longest</th>\n",
       "      <th>capital_run_length_total</th>\n",
       "      <th>class</th>\n",
       "    </tr>\n",
       "  </thead>\n",
       "  <tbody>\n",
       "    <tr>\n",
       "      <th>count</th>\n",
       "      <td>4601.000000</td>\n",
       "      <td>4601.000000</td>\n",
       "      <td>4601.000000</td>\n",
       "      <td>4601.000000</td>\n",
       "      <td>4601.000000</td>\n",
       "      <td>4601.000000</td>\n",
       "      <td>4601.000000</td>\n",
       "      <td>4601.000000</td>\n",
       "      <td>4601.000000</td>\n",
       "      <td>4601.000000</td>\n",
       "      <td>...</td>\n",
       "      <td>4601.000000</td>\n",
       "      <td>4601.000000</td>\n",
       "      <td>4601.000000</td>\n",
       "      <td>4601.000000</td>\n",
       "      <td>4601.000000</td>\n",
       "      <td>4601.000000</td>\n",
       "      <td>4601.000000</td>\n",
       "      <td>4601.000000</td>\n",
       "      <td>4601.000000</td>\n",
       "      <td>4601.000000</td>\n",
       "    </tr>\n",
       "    <tr>\n",
       "      <th>mean</th>\n",
       "      <td>0.104553</td>\n",
       "      <td>0.213015</td>\n",
       "      <td>0.280656</td>\n",
       "      <td>0.065425</td>\n",
       "      <td>0.312223</td>\n",
       "      <td>0.095901</td>\n",
       "      <td>0.114208</td>\n",
       "      <td>0.105295</td>\n",
       "      <td>0.090067</td>\n",
       "      <td>0.239413</td>\n",
       "      <td>...</td>\n",
       "      <td>0.038575</td>\n",
       "      <td>0.139030</td>\n",
       "      <td>0.016976</td>\n",
       "      <td>0.269071</td>\n",
       "      <td>0.075811</td>\n",
       "      <td>0.044238</td>\n",
       "      <td>5.191515</td>\n",
       "      <td>52.172789</td>\n",
       "      <td>283.289285</td>\n",
       "      <td>0.394045</td>\n",
       "    </tr>\n",
       "    <tr>\n",
       "      <th>std</th>\n",
       "      <td>0.305358</td>\n",
       "      <td>1.290575</td>\n",
       "      <td>0.504143</td>\n",
       "      <td>1.395151</td>\n",
       "      <td>0.672513</td>\n",
       "      <td>0.273824</td>\n",
       "      <td>0.391441</td>\n",
       "      <td>0.401071</td>\n",
       "      <td>0.278616</td>\n",
       "      <td>0.644755</td>\n",
       "      <td>...</td>\n",
       "      <td>0.243471</td>\n",
       "      <td>0.270355</td>\n",
       "      <td>0.109394</td>\n",
       "      <td>0.815672</td>\n",
       "      <td>0.245882</td>\n",
       "      <td>0.429342</td>\n",
       "      <td>31.729449</td>\n",
       "      <td>194.891310</td>\n",
       "      <td>606.347851</td>\n",
       "      <td>0.488698</td>\n",
       "    </tr>\n",
       "    <tr>\n",
       "      <th>min</th>\n",
       "      <td>0.000000</td>\n",
       "      <td>0.000000</td>\n",
       "      <td>0.000000</td>\n",
       "      <td>0.000000</td>\n",
       "      <td>0.000000</td>\n",
       "      <td>0.000000</td>\n",
       "      <td>0.000000</td>\n",
       "      <td>0.000000</td>\n",
       "      <td>0.000000</td>\n",
       "      <td>0.000000</td>\n",
       "      <td>...</td>\n",
       "      <td>0.000000</td>\n",
       "      <td>0.000000</td>\n",
       "      <td>0.000000</td>\n",
       "      <td>0.000000</td>\n",
       "      <td>0.000000</td>\n",
       "      <td>0.000000</td>\n",
       "      <td>1.000000</td>\n",
       "      <td>1.000000</td>\n",
       "      <td>1.000000</td>\n",
       "      <td>0.000000</td>\n",
       "    </tr>\n",
       "    <tr>\n",
       "      <th>25%</th>\n",
       "      <td>0.000000</td>\n",
       "      <td>0.000000</td>\n",
       "      <td>0.000000</td>\n",
       "      <td>0.000000</td>\n",
       "      <td>0.000000</td>\n",
       "      <td>0.000000</td>\n",
       "      <td>0.000000</td>\n",
       "      <td>0.000000</td>\n",
       "      <td>0.000000</td>\n",
       "      <td>0.000000</td>\n",
       "      <td>...</td>\n",
       "      <td>0.000000</td>\n",
       "      <td>0.000000</td>\n",
       "      <td>0.000000</td>\n",
       "      <td>0.000000</td>\n",
       "      <td>0.000000</td>\n",
       "      <td>0.000000</td>\n",
       "      <td>1.588000</td>\n",
       "      <td>6.000000</td>\n",
       "      <td>35.000000</td>\n",
       "      <td>0.000000</td>\n",
       "    </tr>\n",
       "    <tr>\n",
       "      <th>50%</th>\n",
       "      <td>0.000000</td>\n",
       "      <td>0.000000</td>\n",
       "      <td>0.000000</td>\n",
       "      <td>0.000000</td>\n",
       "      <td>0.000000</td>\n",
       "      <td>0.000000</td>\n",
       "      <td>0.000000</td>\n",
       "      <td>0.000000</td>\n",
       "      <td>0.000000</td>\n",
       "      <td>0.000000</td>\n",
       "      <td>...</td>\n",
       "      <td>0.000000</td>\n",
       "      <td>0.065000</td>\n",
       "      <td>0.000000</td>\n",
       "      <td>0.000000</td>\n",
       "      <td>0.000000</td>\n",
       "      <td>0.000000</td>\n",
       "      <td>2.276000</td>\n",
       "      <td>15.000000</td>\n",
       "      <td>95.000000</td>\n",
       "      <td>0.000000</td>\n",
       "    </tr>\n",
       "    <tr>\n",
       "      <th>75%</th>\n",
       "      <td>0.000000</td>\n",
       "      <td>0.000000</td>\n",
       "      <td>0.420000</td>\n",
       "      <td>0.000000</td>\n",
       "      <td>0.380000</td>\n",
       "      <td>0.000000</td>\n",
       "      <td>0.000000</td>\n",
       "      <td>0.000000</td>\n",
       "      <td>0.000000</td>\n",
       "      <td>0.160000</td>\n",
       "      <td>...</td>\n",
       "      <td>0.000000</td>\n",
       "      <td>0.188000</td>\n",
       "      <td>0.000000</td>\n",
       "      <td>0.315000</td>\n",
       "      <td>0.052000</td>\n",
       "      <td>0.000000</td>\n",
       "      <td>3.706000</td>\n",
       "      <td>43.000000</td>\n",
       "      <td>266.000000</td>\n",
       "      <td>1.000000</td>\n",
       "    </tr>\n",
       "    <tr>\n",
       "      <th>max</th>\n",
       "      <td>4.540000</td>\n",
       "      <td>14.280000</td>\n",
       "      <td>5.100000</td>\n",
       "      <td>42.810000</td>\n",
       "      <td>10.000000</td>\n",
       "      <td>5.880000</td>\n",
       "      <td>7.270000</td>\n",
       "      <td>11.110000</td>\n",
       "      <td>5.260000</td>\n",
       "      <td>18.180000</td>\n",
       "      <td>...</td>\n",
       "      <td>4.385000</td>\n",
       "      <td>9.752000</td>\n",
       "      <td>4.081000</td>\n",
       "      <td>32.478000</td>\n",
       "      <td>6.003000</td>\n",
       "      <td>19.829000</td>\n",
       "      <td>1102.500000</td>\n",
       "      <td>9989.000000</td>\n",
       "      <td>15841.000000</td>\n",
       "      <td>1.000000</td>\n",
       "    </tr>\n",
       "  </tbody>\n",
       "</table>\n",
       "<p>8 rows × 58 columns</p>\n",
       "</div>"
      ],
      "text/plain": [
       "       word_freq_make  word_freq_address  word_freq_all  word_freq_3d  \\\n",
       "count     4601.000000        4601.000000    4601.000000   4601.000000   \n",
       "mean         0.104553           0.213015       0.280656      0.065425   \n",
       "std          0.305358           1.290575       0.504143      1.395151   \n",
       "min          0.000000           0.000000       0.000000      0.000000   \n",
       "25%          0.000000           0.000000       0.000000      0.000000   \n",
       "50%          0.000000           0.000000       0.000000      0.000000   \n",
       "75%          0.000000           0.000000       0.420000      0.000000   \n",
       "max          4.540000          14.280000       5.100000     42.810000   \n",
       "\n",
       "       word_freq_our  word_freq_over  word_freq_remove  word_freq_internet  \\\n",
       "count    4601.000000     4601.000000       4601.000000         4601.000000   \n",
       "mean        0.312223        0.095901          0.114208            0.105295   \n",
       "std         0.672513        0.273824          0.391441            0.401071   \n",
       "min         0.000000        0.000000          0.000000            0.000000   \n",
       "25%         0.000000        0.000000          0.000000            0.000000   \n",
       "50%         0.000000        0.000000          0.000000            0.000000   \n",
       "75%         0.380000        0.000000          0.000000            0.000000   \n",
       "max        10.000000        5.880000          7.270000           11.110000   \n",
       "\n",
       "       word_freq_order  word_freq_mail  ...  char_freq_%3B  char_freq_%28  \\\n",
       "count      4601.000000     4601.000000  ...    4601.000000    4601.000000   \n",
       "mean          0.090067        0.239413  ...       0.038575       0.139030   \n",
       "std           0.278616        0.644755  ...       0.243471       0.270355   \n",
       "min           0.000000        0.000000  ...       0.000000       0.000000   \n",
       "25%           0.000000        0.000000  ...       0.000000       0.000000   \n",
       "50%           0.000000        0.000000  ...       0.000000       0.065000   \n",
       "75%           0.000000        0.160000  ...       0.000000       0.188000   \n",
       "max           5.260000       18.180000  ...       4.385000       9.752000   \n",
       "\n",
       "       char_freq_%5B  char_freq_%21  char_freq_%24  char_freq_%23  \\\n",
       "count    4601.000000    4601.000000    4601.000000    4601.000000   \n",
       "mean        0.016976       0.269071       0.075811       0.044238   \n",
       "std         0.109394       0.815672       0.245882       0.429342   \n",
       "min         0.000000       0.000000       0.000000       0.000000   \n",
       "25%         0.000000       0.000000       0.000000       0.000000   \n",
       "50%         0.000000       0.000000       0.000000       0.000000   \n",
       "75%         0.000000       0.315000       0.052000       0.000000   \n",
       "max         4.081000      32.478000       6.003000      19.829000   \n",
       "\n",
       "       capital_run_length_average  capital_run_length_longest  \\\n",
       "count                 4601.000000                 4601.000000   \n",
       "mean                     5.191515                   52.172789   \n",
       "std                     31.729449                  194.891310   \n",
       "min                      1.000000                    1.000000   \n",
       "25%                      1.588000                    6.000000   \n",
       "50%                      2.276000                   15.000000   \n",
       "75%                      3.706000                   43.000000   \n",
       "max                   1102.500000                 9989.000000   \n",
       "\n",
       "       capital_run_length_total        class  \n",
       "count               4601.000000  4601.000000  \n",
       "mean                 283.289285     0.394045  \n",
       "std                  606.347851     0.488698  \n",
       "min                    1.000000     0.000000  \n",
       "25%                   35.000000     0.000000  \n",
       "50%                   95.000000     0.000000  \n",
       "75%                  266.000000     1.000000  \n",
       "max                15841.000000     1.000000  \n",
       "\n",
       "[8 rows x 58 columns]"
      ]
     },
     "metadata": {},
     "output_type": "display_data"
    }
   ],
   "source": [
    "display(df.describe())"
   ]
  },
  {
   "attachments": {},
   "cell_type": "markdown",
   "id": "ccdfb6ed",
   "metadata": {},
   "source": [
    "### 1c. Data Correlation"
   ]
  },
  {
   "cell_type": "code",
   "execution_count": 31,
   "id": "aaabdb36",
   "metadata": {
    "collapsed": true
   },
   "outputs": [
    {
     "data": {
      "text/plain": [
       "<AxesSubplot:>"
      ]
     },
     "execution_count": 31,
     "metadata": {},
     "output_type": "execute_result"
    },
    {
     "data": {
      "image/png": "[encoded data removed]",
      "text/plain": [
       "<Figure size 432x288 with 2 Axes>"
      ]
     },
     "metadata": {
      "needs_background": "light"
     },
     "output_type": "display_data"
    }
   ],
   "source": [
    "import seaborn as sns\n",
    "sns.heatmap(df.corr())"
   ]
  },
  {
   "attachments": {},
   "cell_type": "markdown",
   "id": "7885cd31",
   "metadata": {},
   "source": [
    "## Data Exploration\n",
    "\n",
    "### Splitting the Data into Test and Training Datasets\n",
    "Before we start, we split the data into an 80/20 split of training and test data so that we can have some data reserved for checking how well our algorithms function later."
   ]
  },
  {
   "cell_type": "code",
   "execution_count": 32,
   "id": "e2e4f74c",
   "metadata": {},
   "outputs": [],
   "source": [
    "X = df.loc[:, df.columns != 'class']\n",
    "Y = df[['class']]"
   ]
  },
  {
   "cell_type": "code",
   "execution_count": 33,
   "id": "685cdbc7",
   "metadata": {},
   "outputs": [],
   "source": [
    "train_x, test_x, train_y, test_y = train_test_split(X, Y, train_size = 0.8, test_size = 0.2, random_state = 1239)"
   ]
  },
  {
   "cell_type": "code",
   "execution_count": 34,
   "id": "65d0052c",
   "metadata": {},
   "outputs": [
    {
     "name": "stdout",
     "output_type": "stream",
     "text": [
      "Shape of Original Data is (4601, 58)\n",
      "Shape of Training Data is X: (3680, 57) and Y: (3680, 1)\n",
      "Shape of Test Data is X: (921, 57) and Y: (921, 1)\n"
     ]
    }
   ],
   "source": [
    "print(\"Shape of Original Data is {}\".format(df.shape))\n",
    "print(\"Shape of Training Data is X: {} and Y: {}\".format(train_x.shape, train_y.shape))\n",
    "print(\"Shape of Test Data is X: {} and Y: {}\".format(test_x.shape, test_y.shape))"
   ]
  },
  {
   "attachments": {},
   "cell_type": "markdown",
   "id": "eb51f335",
   "metadata": {},
   "source": [
    "### Is the data linearly separable?"
   ]
  },
  {
   "attachments": {},
   "cell_type": "markdown",
   "id": "493a79d3",
   "metadata": {},
   "source": [
    "Considering the fact that we are trying to perform binary classification on this data, it makes sense to check if the data is linearly separable. We can do this by training a Perceptron. Since a perceptron is guaranteed to converge if the data is linearly separable. WE can expect tosee 100% accuracy using this Perceptron if it is in fact linearly separable. If we don't, that means the data is not linearly separable."
   ]
  },
  {
   "cell_type": "code",
   "execution_count": 35,
   "id": "9ac79408",
   "metadata": {},
   "outputs": [
    {
     "name": "stdout",
     "output_type": "stream",
     "text": [
      "Accuracy: 0.5931319278417735\n",
      "Precision: 0.49192886456908347\n",
      "Recall: 0.9917264202978489\n"
     ]
    }
   ],
   "source": [
    "from sklearn.linear_model import Perceptron\n",
    "spam_perceptron = Perceptron(max_iter=1000, random_state=0, fit_intercept=True, eta0=0.05)\n",
    "spam_perceptron.fit(X,np.ravel(Y))\n",
    "\n",
    "y_pred = spam_perceptron.predict(X)\n",
    "accuracy = accuracy_score(Y, y_pred)\n",
    "precision = precision_score(Y, y_pred)\n",
    "recall = recall_score(Y, y_pred)\n",
    "\n",
    "print(\"Accuracy:\", accuracy)\n",
    "print(\"Precision:\", precision)\n",
    "print(\"Recall:\", recall)"
   ]
  },
  {
   "attachments": {},
   "cell_type": "markdown",
   "id": "886261d3",
   "metadata": {},
   "source": [
    "We can see that we did not end up with 100% accuracy, leading us to conclude the data is not linearly separable. We also got poor accuracy and precision scores on our data, so the perceptron is not a good model for predicting for spam email, in addition to proving that the data is not linearly separable."
   ]
  },
  {
   "attachments": {},
   "cell_type": "markdown",
   "id": "bbe7024c",
   "metadata": {},
   "source": [
    "### Principal Component Analysis"
   ]
  },
  {
   "attachments": {},
   "cell_type": "markdown",
   "id": "bc531443",
   "metadata": {},
   "source": [
    "To get a better idea of how the data separates, we can use Principal Component Analysis (PCA). PCA is a way of getting smaller dimensional representaions of data. We can use it to get our data onto a two dimensional char. Further reading on PCA can be seen [here](https://towardsdatascience.com/a-one-stop-shop-for-principal-component-analysis-5582fb7e0a9c).\n",
    "\n",
    "Once we do PCA to get the two highest vectors of variance, we can see what our data looks when projected onto these vectors. We can see that taking the first two principal components explains 0.99806998 of the variance, so looking at this graph does a good job of illuminating how the data separates. Spam emails were represented with red and legitimate emails were represented with blue. As we an see from the overlap, this is not linearly separable, and it makes sense that the perceptron functioned so poorly.\n",
    "\n",
    "We can also get a better sense of how the data is spread. Most legitimate emails are clustered towards the bottom of this graph. Many spam emails are clearly distinguishable, as they are far above the legitimate ones here and clearly distinct. However, many spam emails are right in the cluster with the legitimate emails on the bottom. This indicated that techniques reliant on separating the data such as SVM or perceptrons won't function well on this data."
   ]
  },
  {
   "cell_type": "code",
   "execution_count": 36,
   "id": "8013c5e0",
   "metadata": {},
   "outputs": [
    {
     "name": "stdout",
     "output_type": "stream",
     "text": [
      "[0.92702701 0.07104297]\n"
     ]
    },
    {
     "data": {
      "image/png": "[encoded data removed]",
      "text/plain": [
       "<Figure size 432x288 with 1 Axes>"
      ]
     },
     "metadata": {
      "needs_background": "light"
     },
     "output_type": "display_data"
    }
   ],
   "source": [
    "from sklearn.decomposition import PCA\n",
    "pca = PCA(n_components=2)\n",
    "pca.fit(X)\n",
    "print(pca.explained_variance_ratio_)\n",
    "principal_components = pca.fit_transform(X)\n",
    "principal_components=principal_components.T\n",
    "colors = []\n",
    "for y in Y[\"class\"]:\n",
    "    if y ==1:\n",
    "        colors.append(\"red\")\n",
    "    else:\n",
    "        colors.append(\"blue\")\n",
    "plt.scatter(principal_components[0],principal_components[1],c=colors,alpha = .25,s=15)\n",
    "plt.xlim([-500,4000])\n",
    "plt.ylim([-1000,3000])\n",
    "plt.title(\"Spam emails\")\n",
    "plt.xlabel(\"Principal component 1\")\n",
    "plt.ylabel(\"Principal component 2\")\n",
    "plt.show\n",
    "plt.savefig('PCASpam.pdf')"
   ]
  },
  {
   "attachments": {},
   "cell_type": "markdown",
   "id": "fdb9dc99",
   "metadata": {},
   "source": [
    "## Running the Different Models\n",
    "\n",
    "### 1. Neural Networks\n",
    "\n",
    "We trained a neural network on the data using relu and an adaptive learning rate which got us 85 percent accuracy and precision. This is quite good, as it classifies 85% of email correctly and only 15% of emails flagged shouldn't have been."
   ]
  },
  {
   "cell_type": "code",
   "execution_count": 37,
   "id": "e455f710",
   "metadata": {},
   "outputs": [
    {
     "name": "stdout",
     "output_type": "stream",
     "text": [
      "Accuracy: 0.8588490770901195\n",
      "Precision: 0.8544303797468354\n",
      "Recall: 0.7627118644067796\n"
     ]
    }
   ],
   "source": [
    "from sklearn.neural_network import MLPClassifier\n",
    "spam_nn = MLPClassifier(solver='sgd',activation='relu', alpha=1e-4,learning_rate='adaptive', hidden_layer_sizes=(30,15, 7), random_state=1,max_iter=400)\n",
    "spam_nn.fit(train_x,np.ravel(train_y))\n",
    "y_pred = spam_nn.predict(test_x)\n",
    "accuracy = accuracy_score(test_y, y_pred)\n",
    "precision = precision_score(test_y, y_pred)\n",
    "recall = recall_score(test_y, y_pred)\n",
    "print(\"Accuracy:\", accuracy)\n",
    "print(\"Precision:\", precision)\n",
    "print(\"Recall:\", recall)"
   ]
  },
  {
   "attachments": {},
   "cell_type": "markdown",
   "id": "59700c74",
   "metadata": {},
   "source": [
    "### 2. K-Nearest Neighbors \n",
    "\n",
    "Steps (loosely) followed from this website: https://www.datacamp.com/tutorial/k-nearest-neighbor-classification-scikit-learn\n",
    "\n",
    "We were interested in applying K-Nearest Neighbors because it seemed logical to assume that spam-emails would exhibit a high degree of similarity in their feature values. Additionally, since all our features were numerical in nature it was natural that we test whether the emails with the smallest euclidean distance towards each other would be a good predictor of their respective class labels, as we would not have to do any reconstruction of the data to convert categorical labels into V-many binary indicator features. "
   ]
  },
  {
   "attachments": {},
   "cell_type": "markdown",
   "id": "d78ed321",
   "metadata": {},
   "source": [
    "### Determining what k-value to use using cross-validation\n",
    "\n",
    "In order to determine what k-value to use, we decided to implement cross-validation. This process essentially runs a KNN classifier for different variations of the data (in this case I used a parameter of cv = 5, so it was a 4:1 split between training and test data that was different for each k-value) for different values of K. I then plotted the accuracy score of each k-value to visually determine which k-value yielded the most success in predicting spam emails"
   ]
  },
  {
   "cell_type": "code",
   "execution_count": 38,
   "id": "1efe969b",
   "metadata": {},
   "outputs": [],
   "source": [
    "k_values = [i for i in range(1, 20)]\n",
    "scores = []\n",
    "\n",
    "for k in k_values:\n",
    "    knn = KNeighborsClassifier(n_neighbors = k)\n",
    "    score = cross_val_score(knn, X, np.ravel(Y), cv = 5)\n",
    "    scores.append(np.mean(score))"
   ]
  },
  {
   "cell_type": "code",
   "execution_count": 39,
   "id": "dde667a3",
   "metadata": {},
   "outputs": [
    {
     "data": {
      "image/png": "[encoded data removed]",
      "text/plain": [
       "<Figure size 432x288 with 1 Axes>"
      ]
     },
     "metadata": {
      "needs_background": "light"
     },
     "output_type": "display_data"
    }
   ],
   "source": [
    "plt.title(\"K-Value vs Accuracy Score\")\n",
    "plt.xlabel(\"K-Value\")\n",
    "plt.ylabel(\"Accuracy Score\")\n",
    "plt.plot(k_values, scores, marker = 'o')\n",
    "plt.xticks(np.arange(0, len(k_values), 1.0))\n",
    "plt.show()"
   ]
  },
  {
   "attachments": {},
   "cell_type": "markdown",
   "id": "65bf56c6",
   "metadata": {},
   "source": [
    "### b. Training the Model using the Best K based on Accuracy Score\n",
    "\n",
    "The k-value that yielded the highest accuracy score was k = 1, so the first model which we will run the K-Nearest Neighbors algorithm for will have a hyperparameter of k = 1."
   ]
  },
  {
   "cell_type": "code",
   "execution_count": 40,
   "id": "1a348297",
   "metadata": {},
   "outputs": [
    {
     "data": {
      "text/html": [
       "<style>#sk-container-id-2 {color: black;background-color: white;}#sk-container-id-2 pre{padding: 0;}#sk-container-id-2 div.sk-toggleable {background-color: white;}#sk-container-id-2 label.sk-toggleable__label {cursor: pointer;display: block;width: 100%;margin-bottom: 0;padding: 0.3em;box-sizing: border-box;text-align: center;}#sk-container-id-2 label.sk-toggleable__label-arrow:before {content: \"▸\";float: left;margin-right: 0.25em;color: #696969;}#sk-container-id-2 label.sk-toggleable__label-arrow:hover:before {color: black;}#sk-container-id-2 div.sk-estimator:hover label.sk-toggleable__label-arrow:before {color: black;}#sk-container-id-2 div.sk-toggleable__content {max-height: 0;max-width: 0;overflow: hidden;text-align: left;background-color: #f0f8ff;}#sk-container-id-2 div.sk-toggleable__content pre {margin: 0.2em;color: black;border-radius: 0.25em;background-color: #f0f8ff;}#sk-container-id-2 input.sk-toggleable__control:checked~div.sk-toggleable__content {max-height: 200px;max-width: 100%;overflow: auto;}#sk-container-id-2 input.sk-toggleable__control:checked~label.sk-toggleable__label-arrow:before {content: \"▾\";}#sk-container-id-2 div.sk-estimator input.sk-toggleable__control:checked~label.sk-toggleable__label {background-color: #d4ebff;}#sk-container-id-2 div.sk-label input.sk-toggleable__control:checked~label.sk-toggleable__label {background-color: #d4ebff;}#sk-container-id-2 input.sk-hidden--visually {border: 0;clip: rect(1px 1px 1px 1px);clip: rect(1px, 1px, 1px, 1px);height: 1px;margin: -1px;overflow: hidden;padding: 0;position: absolute;width: 1px;}#sk-container-id-2 div.sk-estimator {font-family: monospace;background-color: #f0f8ff;border: 1px dotted black;border-radius: 0.25em;box-sizing: border-box;margin-bottom: 0.5em;}#sk-container-id-2 div.sk-estimator:hover {background-color: #d4ebff;}#sk-container-id-2 div.sk-parallel-item::after {content: \"\";width: 100%;border-bottom: 1px solid gray;flex-grow: 1;}#sk-container-id-2 div.sk-label:hover label.sk-toggleable__label {background-color: #d4ebff;}#sk-container-id-2 div.sk-serial::before {content: \"\";position: absolute;border-left: 1px solid gray;box-sizing: border-box;top: 0;bottom: 0;left: 50%;z-index: 0;}#sk-container-id-2 div.sk-serial {display: flex;flex-direction: column;align-items: center;background-color: white;padding-right: 0.2em;padding-left: 0.2em;position: relative;}#sk-container-id-2 div.sk-item {position: relative;z-index: 1;}#sk-container-id-2 div.sk-parallel {display: flex;align-items: stretch;justify-content: center;background-color: white;position: relative;}#sk-container-id-2 div.sk-item::before, #sk-container-id-2 div.sk-parallel-item::before {content: \"\";position: absolute;border-left: 1px solid gray;box-sizing: border-box;top: 0;bottom: 0;left: 50%;z-index: -1;}#sk-container-id-2 div.sk-parallel-item {display: flex;flex-direction: column;z-index: 1;position: relative;background-color: white;}#sk-container-id-2 div.sk-parallel-item:first-child::after {align-self: flex-end;width: 50%;}#sk-container-id-2 div.sk-parallel-item:last-child::after {align-self: flex-start;width: 50%;}#sk-container-id-2 div.sk-parallel-item:only-child::after {width: 0;}#sk-container-id-2 div.sk-dashed-wrapped {border: 1px dashed gray;margin: 0 0.4em 0.5em 0.4em;box-sizing: border-box;padding-bottom: 0.4em;background-color: white;}#sk-container-id-2 div.sk-label label {font-family: monospace;font-weight: bold;display: inline-block;line-height: 1.2em;}#sk-container-id-2 div.sk-label-container {text-align: center;}#sk-container-id-2 div.sk-container {/* jupyter's `normalize.less` sets `[hidden] { display: none; }` but bootstrap.min.css set `[hidden] { display: none !important; }` so we also need the `!important` here to be able to override the default hidden behavior on the sphinx rendered scikit-learn.org. See: https://github.com/scikit-learn/scikit-learn/issues/21755 */display: inline-block !important;position: relative;}#sk-container-id-2 div.sk-text-repr-fallback {display: none;}</style><div id=\"sk-container-id-2\" class=\"sk-top-container\"><div class=\"sk-text-repr-fallback\"><pre>KNeighborsClassifier(n_neighbors=1)</pre><b>In a Jupyter environment, please rerun this cell to show the HTML representation or trust the notebook. <br />On GitHub, the HTML representation is unable to render, please try loading this page with nbviewer.org.</b></div><div class=\"sk-container\" hidden><div class=\"sk-item\"><div class=\"sk-estimator sk-toggleable\"><input class=\"sk-toggleable__control sk-hidden--visually\" id=\"sk-estimator-id-2\" type=\"checkbox\" checked><label for=\"sk-estimator-id-2\" class=\"sk-toggleable__label sk-toggleable__label-arrow\">KNeighborsClassifier</label><div class=\"sk-toggleable__content\"><pre>KNeighborsClassifier(n_neighbors=1)</pre></div></div></div></div></div>"
      ],
      "text/plain": [
       "KNeighborsClassifier(n_neighbors=1)"
      ]
     },
     "execution_count": 40,
     "metadata": {},
     "output_type": "execute_result"
    }
   ],
   "source": [
    "best_index = np.argmax(scores)\n",
    "best_k = k_values[best_index]\n",
    "\n",
    "knn = KNeighborsClassifier(n_neighbors = best_k)\n",
    "knn.fit(train_x, np.ravel(train_y))"
   ]
  },
  {
   "attachments": {},
   "cell_type": "markdown",
   "id": "695746ea",
   "metadata": {},
   "source": [
    "### c. Looking at the accuracy, precision, and recall of the best-K model\n",
    "\n",
    "Source: https://towardsdatascience.com/whats-the-deal-with-accuracy-precision-recall-and-f1-f5d8b4db1021\n",
    "\n",
    "TP = True Positives <br>\n",
    "FP = False Positives<br>\n",
    "\n",
    "Accuracy = the number of correct predictions / the total number of predictions made.<br>\n",
    "\n",
    "\n",
    "Precision = (TP) / (TP + FP)\n",
    "\n",
    "Recall = (TP) / (TP + FN) \n",
    "\n",
    "As evident in the results below, the KNN model with a K-value equal to 1 had about an 81% rate of accuracy, meaning that it made the correct prediction about 81% of the time. However, the precision for this model did not perform as well, exhibiting only a ~ 76% precision rate. This can be interpreted as meaning that the when the model did predict that an email was positive, it was only correct about 75% of the time. Recalling back our #2 consideration in our motivation (valuing a high degree of precision), this was a relatively poor outcome. Overall, the KNN algorithm performed satisfactorily but definitely did not seem like it was the best option for the task."
   ]
  },
  {
   "cell_type": "code",
   "execution_count": 41,
   "id": "aa78eba2",
   "metadata": {},
   "outputs": [
    {
     "name": "stdout",
     "output_type": "stream",
     "text": [
      "Accuracy: 0.8121606948968513\n",
      "Precision: 0.7578347578347578\n",
      "Recall: 0.751412429378531\n"
     ]
    }
   ],
   "source": [
    "y_pred = knn.predict(test_x)\n",
    "\n",
    "accuracy = accuracy_score(test_y, y_pred)\n",
    "precision = precision_score(test_y, y_pred)\n",
    "recall = recall_score(test_y, y_pred)\n",
    "\n",
    "print(\"Accuracy:\", accuracy)\n",
    "print(\"Precision:\", precision)\n",
    "print(\"Recall:\", recall)"
   ]
  },
  {
   "attachments": {},
   "cell_type": "markdown",
   "id": "ae84b5e5",
   "metadata": {},
   "source": [
    "### Naive Bayes\n",
    "\n",
    "We thought to train a naive bayes on the data since it gives us a likelihood of an email being spam as opposed to just a binary classification. This allows for a spam email filter to definitively filter out the most likely to be spam, and flag less likely emails for manual review by the user to avoid throwing out legitimate emails. We can see that the naive bayes performs about en par with the K Nearest Neighbors algorithm and the neural network, but not as well as the decision tree or random forest. We used a Bernoulli Naive Bayes since each email can be thought of as a yes or no experiment, which is what the Bernoulli distribution is. For further explanation about Naive Bayes, read [here](https://towardsdatascience.com/naive-bayes-classifier-81d512f50a7c).\n",
    "\n"
   ]
  },
  {
   "cell_type": "code",
   "execution_count": 42,
   "id": "a0ccd4f2",
   "metadata": {},
   "outputs": [
    {
     "name": "stdout",
     "output_type": "stream",
     "text": [
      "Accuracy: 0.8751357220412594\n",
      "Precision: 0.8610271903323263\n",
      "Recall: 0.8050847457627118\n",
      "Accuracy: 0.8707926167209555\n",
      "Precision: 0.8903654485049833\n",
      "Recall: 0.7570621468926554\n"
     ]
    }
   ],
   "source": [
    "from sklearn.naive_bayes import BernoulliNB\n",
    "bayes = BernoulliNB()\n",
    "bayes.fit(train_x,np.ravel(train_y))\n",
    "y_pred = bayes.predict(test_x)\n",
    "accuracy = accuracy_score(test_y, y_pred)\n",
    "precision = precision_score(test_y, y_pred)\n",
    "recall = recall_score(test_y, y_pred)\n",
    "print(\"Accuracy:\", accuracy)\n",
    "print(\"Precision:\", precision)\n",
    "print(\"Recall:\", recall)\n",
    "probs = bayes.predict_proba(test_x)\n",
    "confident = []\n",
    "for x in probs:\n",
    "    if x[1] > .8:\n",
    "        confident.append(1)\n",
    "    else:\n",
    "        confident.append(0)\n",
    "y_pred = confident\n",
    "accuracy = accuracy_score(test_y, y_pred)\n",
    "precision = precision_score(test_y, y_pred)\n",
    "recall = recall_score(test_y, y_pred)\n",
    "print(\"Accuracy:\", accuracy)\n",
    "print(\"Precision:\", precision)\n",
    "print(\"Recall:\", recall)"
   ]
  },
  {
   "attachments": {},
   "cell_type": "markdown",
   "id": "ceaca4ca",
   "metadata": {},
   "source": [
    "### Logistic Regression\n",
    "\n",
    "Since logistic regression is another algorithm that categorizes data according to probabilities, it offers the same benefits as Naive Bayes of giving different priority to different probabilities in classifications. We can see that logistic regression performed a bit better than Naive Bayes and the Neural network, although not quite as well as the Decision Tree and Random Forest. We can also observe that when we adjust the probability threshold for classifying as spam, we can raise precision, thus reducing the chance of false positives"
   ]
  },
  {
   "cell_type": "code",
   "execution_count": 43,
   "id": "0f74a798",
   "metadata": {},
   "outputs": [
    {
     "name": "stdout",
     "output_type": "stream",
     "text": [
      "Accuracy: 0.9283387622149837\n",
      "Precision: 0.9210526315789473\n",
      "Recall: 0.8898305084745762\n",
      "Accuracy: 0.8783930510314875\n",
      "Precision: 0.9481481481481482\n",
      "Recall: 0.7231638418079096\n"
     ]
    }
   ],
   "source": [
    "from sklearn.linear_model import LogisticRegression\n",
    "regression = LogisticRegression(max_iter=1500)\n",
    "regression.fit(train_x,np.ravel(train_y))\n",
    "y_pred = regression.predict(test_x)\n",
    "accuracy = accuracy_score(test_y, y_pred)\n",
    "precision = precision_score(test_y, y_pred)\n",
    "recall = recall_score(test_y, y_pred)\n",
    "\n",
    "print(\"Accuracy:\", accuracy)\n",
    "print(\"Precision:\", precision)\n",
    "print(\"Recall:\", recall)\n",
    "\n",
    "probs = regression.predict_proba(test_x)\n",
    "confident = []\n",
    "for x in probs:\n",
    "    if x[1] > .8:\n",
    "        confident.append(1)\n",
    "    else:\n",
    "        confident.append(0)\n",
    "        \n",
    "y_pred = confident\n",
    "accuracy = accuracy_score(test_y, y_pred)\n",
    "precision = precision_score(test_y, y_pred)\n",
    "recall = recall_score(test_y, y_pred)\n",
    "print(\"Accuracy:\", accuracy)\n",
    "print(\"Precision:\", precision)\n",
    "print(\"Recall:\", recall)"
   ]
  },
  {
   "attachments": {},
   "cell_type": "markdown",
   "id": "2894ed37",
   "metadata": {},
   "source": [
    "### Decision Trees\n",
    "“In machine learning, a Decision Tree is a supervised learning technique. It is capable of\n",
    "working with both classification and regression techniques. It resembles a tree with nodes, as the\n",
    "name implies. The amount of criteria determines the branches. It divides data into these branches\n",
    "until it reaches a threshold unit. There are root nodes, child nodes, and leaf nodes in a decision\n",
    "tree. Random forest is also used for supervised learning, although it has a lot of power. It's quite\n",
    "popular. The main distinction is that it does not rely on a single decision. It assembles\n",
    "randomized decisions based on many decisions and then creates a final decision depending on\n",
    "the majority.”\n",
    "(https://www.upgrad.com/blog/random-forest-vs-decision-tree/#:~:text=A%20decision%20tree%20combines%20some,forest%20model%20needs%20rigorous%20training)\n",
    "\n",
    "The reason we wanted to do a random forest as well is that Random forests tend to offer better\n",
    "predictive performance, reduced overfitting, and more reliable feature importance measures\n",
    "compared to a single decision tree."
   ]
  },
  {
   "cell_type": "code",
   "execution_count": 44,
   "id": "07b7d23b",
   "metadata": {},
   "outputs": [],
   "source": [
    "from sklearn.tree import DecisionTreeClassifier"
   ]
  },
  {
   "cell_type": "code",
   "execution_count": 45,
   "id": "92d7e904",
   "metadata": {
    "scrolled": false
   },
   "outputs": [
    {
     "name": "stdout",
     "output_type": "stream",
     "text": [
      "Depth 10\n",
      "Accuracy: 0.9239956568946797\n",
      "Precision: 0.9011299435028248\n",
      "Recall: 0.9011299435028248\n",
      "Top 5 Best Split Features:\n",
      "char_freq_%24\n",
      "word_freq_remove\n",
      "char_freq_%21\n",
      "word_freq_hp\n",
      "capital_run_length_total\n"
     ]
    },
    {
     "data": {
      "image/png": "[encoded data removed]",
      "text/plain": [
       "<Figure size 432x288 with 1 Axes>"
      ]
     },
     "metadata": {
      "needs_background": "light"
     },
     "output_type": "display_data"
    }
   ],
   "source": [
    "plt.title(\"Accuracy of Decision Tree as Depth Increases\")\n",
    "plt.xlabel(\"Depth\")\n",
    "plt.ylabel(\"Accuracy\")\n",
    "\n",
    "num_iterations = 10\n",
    "\n",
    "for i in range(num_iterations): \n",
    "    # Create the decision tree classifier\n",
    "    clf = DecisionTreeClassifier(max_depth = i+1)\n",
    "\n",
    "    # Train Decision Tree Classifer\n",
    "    clf = clf.fit(train_x, train_y)\n",
    "\n",
    "    #Predict the response for test dataset\n",
    "    y_pred = clf.predict(test_x)\n",
    "\n",
    "    accuracy = accuracy_score(test_y, y_pred)\n",
    "    precision = precision_score(test_y, y_pred)\n",
    "    recall = recall_score(test_y, y_pred)\n",
    "    \n",
    "    plt.scatter(i+1,accuracy)\n",
    "    \n",
    "    # Extract the feature importances\n",
    "    importance_scores = clf.feature_importances_\n",
    "\n",
    "    # Find the indices of the top 5 best split features\n",
    "    top_5_i = importance_scores.argsort()[-5:][::-1]\n",
    "\n",
    "    # Find the names of the top 5 best split features\n",
    "    top_5_feat = X.columns[top_5_i]\n",
    "\n",
    "    if i == 9:\n",
    "        \n",
    "        print(\"Depth\", i+1)\n",
    "        print('Accuracy:', accuracy)\n",
    "        print('Precision:', precision)\n",
    "        print('Recall:', recall)\n",
    "        \n",
    "        # Print the top 5 best split features\n",
    "        print(\"Top 5 Best Split Features:\")\n",
    "        for feat in top_5_feat:\n",
    "            print(feat)\n",
    "        \n",
    "        \n",
    "plt.show()"
   ]
  },
  {
   "attachments": {},
   "cell_type": "markdown",
   "id": "0e38bddb",
   "metadata": {},
   "source": [
    "At first we just did one iteration of the random forest and didn’t have any depth, but we decided\n",
    "that for this classification we could do a depth 10 random forest with our n_classifiers set to 100\n",
    "Decision Trees to get better accuracy to decipher which email is spam or not and what the best\n",
    "feature is."
   ]
  },
  {
   "attachments": {},
   "cell_type": "markdown",
   "id": "17e0ccec",
   "metadata": {},
   "source": [
    "At first we just did one iteration of decision trees and didn’t have any depth, but we decided that\n",
    "for this classification we could do a depth 10 decision tree to get better accuracy to decipher\n",
    "which email is spam or not.\n",
    "We wanted to find the Accuracy, Recall, and Precision of the decision tree and our results were\n",
    "really good at deciphering which emails were spam and which were not.\n",
    "Next we wanted to try and find which split had the best information gain in the decision tree. We\n",
    "did this by extracting feature importances, finding the indices of those important features, and\n",
    "listing the top 5 best splits within the tree.\n"
   ]
  },
  {
   "attachments": {},
   "cell_type": "markdown",
   "id": "559dd414",
   "metadata": {},
   "source": [
    "### Random Forests"
   ]
  },
  {
   "cell_type": "code",
   "execution_count": 46,
   "id": "49d33ce6",
   "metadata": {},
   "outputs": [],
   "source": [
    "from sklearn.ensemble import RandomForestClassifier"
   ]
  },
  {
   "cell_type": "code",
   "execution_count": 47,
   "id": "7694c570",
   "metadata": {},
   "outputs": [
    {
     "name": "stdout",
     "output_type": "stream",
     "text": [
      "Depth 10\n",
      "Accuracy: 0.9402823018458197\n",
      "Precision: 0.9516616314199395\n",
      "Recall: 0.8898305084745762\n",
      "Top 5 Best Split Features:\n",
      "char_freq_%21\n",
      "char_freq_%24\n",
      "word_freq_remove\n",
      "word_freq_your\n",
      "word_freq_free\n"
     ]
    },
    {
     "data": {
      "image/png": "[encoded data removed]",
      "text/plain": [
       "<Figure size 432x288 with 1 Axes>"
      ]
     },
     "metadata": {
      "needs_background": "light"
     },
     "output_type": "display_data"
    }
   ],
   "source": [
    "plt.title(\"Accuracy of Random Forest as Depth Increases\")\n",
    "plt.xlabel(\"Depth\")\n",
    "\n",
    "plt.ylabel(\"Accuracy\")\n",
    "num_iterations = 10\n",
    "for i in range(num_iterations):\n",
    "   \n",
    "    # Create RandomForest classifer object with max depth i+1 and 100 DTs\n",
    "    rfc = RandomForestClassifier(n_estimators=100, max_depth=i+1)\n",
    "\n",
    "    # Train Random Forest Classifer\n",
    "    rfc = rfc.fit(train_x, np.ravel(train_y))\n",
    "\n",
    "    #Predict the response for test dataset\n",
    "    y_pred = rfc.predict(test_x)\n",
    "    \n",
    "    accuracy = accuracy_score(test_y, y_pred)\n",
    "    precision = precision_score(test_y, y_pred)\n",
    "    recall = recall_score(test_y, y_pred)\n",
    "   \n",
    "    plt.scatter(i+1,accuracy)\n",
    "    \n",
    "    # Extract the feature importances\n",
    "    importance_scores = rfc.feature_importances_\n",
    "\n",
    "    # Find the indices of the top 5 best split features\n",
    "    top_5_indices = importance_scores.argsort()[-5:][::-1]\n",
    "\n",
    "    # Find the names of the top 5 best split features\n",
    "    top_5_features = X.columns[top_5_indices]\n",
    "\n",
    "    # Print the top 5 best split features\n",
    "    if i == 9:\n",
    "        print(\"Depth\", i+1)\n",
    "        print('Accuracy:', accuracy)\n",
    "        print('Precision:', precision)\n",
    "        print('Recall:', recall)\n",
    "        print(\"Top 5 Best Split Features:\")\n",
    "        for feature in top_5_features:\n",
    "            print(feature)\n",
    "            \n",
    "plt.show()"
   ]
  },
  {
   "attachments": {},
   "cell_type": "markdown",
   "id": "c8d2e961",
   "metadata": {},
   "source": [
    "## Conclusion\n",
    "### Goals\n",
    "Our objective with this project was to explore how machine learning can be used to classify and filter spam emails, due to the pervasive problem of spam emails. One priority of our algorithms was the precision score, as we wanted the filter to avoid filtering out legitimate emails. We also wanted to see which machine learning techniques would best function in the filtering of spam emails and what features of our dataset were most associated with spam emails.\n",
    "\n",
    "### Results \n",
    "\n",
    "<u> Accuracy: </u>\n",
    "\n",
    "Random Forests: .935\n",
    "\n",
    "Logistic Regression: .928\n",
    "\n",
    "Decision Trees: .922\n",
    "\n",
    "Naive Bayes: .875\n",
    "\n",
    "Neural Network: .859\n",
    "\n",
    "K-Nearest Neighbors: .812\n",
    "\n",
    "Perceptron: .593\n",
    "\n",
    "<u> Precision: </u>\n",
    "\n",
    "Random Forests: .943\n",
    "\n",
    "Logistic Regression: .921\n",
    "\n",
    "Decision Trees: .896\n",
    "\n",
    "Neural Network: .854\n",
    "\n",
    "Naive Bayes: .861\n",
    "\n",
    "K-Nearest Neighbors: .758\n",
    "\n",
    "Perceptron: .492\n",
    "\n",
    "<u> Recall: </u>\n",
    "\n",
    "\n",
    "Perceptron: .992\n",
    "\n",
    "Random Forests: .943\n",
    "\n",
    "Decision Trees: .901\n",
    "\n",
    "Logistic Regression: .890\n",
    "\n",
    "Naive Bayes: .805\n",
    "\n",
    "Neural Network: .763\n",
    "\n",
    "K-Nearest Neighbors: .751\n",
    "\n",
    "\n",
    "Features with best splits / highest information gain from all decision trees, not just depth 10: Your, Free Money, Remove, hp\n",
    "Characters with best splits / highest information gain: $, !\n",
    "Other features that are relevant: capital_run_length_average (average length of uninterrupted capital letters), capital_run_length_total (total # of capital letters)\n",
    "### Further work\n",
    "For further work on this topic, one factor this dataset doesn't include is the sending address of the email, which plays a huge role in determining the source of spam. Something an actual spam filter using one of the models trained here would do would be to take the emails definitively marked as spam and block those addresses as spam. We would also do some work on classifying what makes an email address suspicious or likely to be spam. The spam filter would also have a whitelist for known email addresses to avoid filtering them out. These were all a bit outside the scope of this project, but are considerations that would need to be taken on an actual filter built off of this. We would also be interested in adding more words to the dataset and seeing how that would affect classification."
   ]
  }
 ],
 "metadata": {
  "kernelspec": {
   "display_name": "Python 3 (ipykernel)",
   "language": "python",
   "name": "python3"
  },
  "language_info": {
   "codemirror_mode": {
    "name": "ipython",
    "version": 3
   },
   "file_extension": ".py",
   "mimetype": "text/x-python",
   "name": "python",
   "nbconvert_exporter": "python",
   "pygments_lexer": "ipython3",
   "version": "3.9.12"
  }
 },
 "nbformat": 4,
 "nbformat_minor": 5
}
